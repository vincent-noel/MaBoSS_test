{
 "cells": [
  {
   "cell_type": "markdown",
   "metadata": {},
   "source": [
    "# Personalized logical models to investigate cancer response to BRAF treatments in melanomas and colorectal cancers"
   ]
  },
  {
   "cell_type": "markdown",
   "metadata": {},
   "source": [
    "## Automatized model-checking within unit-testing framework\n",
    " \n",
    "\n",
    "In this notebook we test the consistence of our model through the unit-testing framework we developed.\n"
   ]
  },
  {
   "cell_type": "markdown",
   "metadata": {},
   "source": [
    "![title](assertion_table.png)"
   ]
  },
  {
   "cell_type": "markdown",
   "metadata": {},
   "source": [
    "## Prepare the tool \n",
    "\n",
    "### Installation\n",
    "In order to install those libraries use:\n",
    "* pip install maboss\n",
    "* pip install maboss_test\n"
   ]
  },
  {
   "cell_type": "code",
   "execution_count": 1,
   "metadata": {},
   "outputs": [],
   "source": [
    "import maboss\n",
    "import maboss_test"
   ]
  },
  {
   "cell_type": "markdown",
   "metadata": {},
   "source": [
    "### Create the objects to perform the tests\n",
    "\n",
    "We build two different object, one corresponding to the network which presents the mutated form of BRAF (BRAF_ON) and the other for the treated network (BRAF_OFF)."
   ]
  },
  {
   "cell_type": "code",
   "execution_count": 2,
   "metadata": {},
   "outputs": [],
   "source": [
    "BRAFV600E = maboss.load(\"BRAF_Model.bnd\", \"BRAF_Model.cfg\")\n",
    "\n",
    "BRAFV600E.mutate('BRAF', 'ON')\n",
    "test_BRAF_ON = maboss_test.MaBoSSTestCase(BRAFV600E)   #tester for the BRAF mutated network\n",
    "\n",
    "BRAFV600E.mutate('BRAF', 'OFF')\n",
    "test_BRAF_OFF = maboss_test.MaBoSSTestCase(BRAFV600E)  #tester for the treated network"
   ]
  },
  {
   "cell_type": "markdown",
   "metadata": {},
   "source": [
    "### Definition of some useful variables:"
   ]
  },
  {
   "cell_type": "markdown",
   "metadata": {},
   "source": [
    "As we mentioned in the article, CRC and melanoma present different level of expression of SOX10. \n",
    "We define the intial conditions:"
   ]
  },
  {
   "cell_type": "code",
   "execution_count": 3,
   "metadata": {},
   "outputs": [],
   "source": [
    "IC_CRC = {'SOX10':[1,0]}    #initial conditions for CRC: SOX10 not expressed \n",
    "IC_Mela = {'SOX10':[0,1]}   #initial conditions for melanoma: SOX10 expressed"
   ]
  },
  {
   "cell_type": "markdown",
   "metadata": {},
   "source": [
    "Variables to simulate different kind of treatment:"
   ]
  },
  {
   "cell_type": "code",
   "execution_count": 4,
   "metadata": {},
   "outputs": [],
   "source": [
    "BRAF_inhibition = {'BRAF':'OFF'}\n",
    "MEK_inhibition =  {'MEK_b1':'OFF', 'MEK_b2':'OFF'}\n",
    "BRAF_EGFR_inhibition = {'BRAF' :'OFF', 'EGFR':'OFF'}\n",
    "BRAF_MEK_PI3K_inhibition = {'BRAF':'OFF', 'MEK_b1':'OFF', 'MEK_b2':'OFF', 'PI3K':'OFF'}"
   ]
  },
  {
   "cell_type": "markdown",
   "metadata": {},
   "source": [
    "# Assertions list:\n",
    "\n",
    "Notice: in the following tests the initial conditions are random for every node (each node starts with a 50% probability to be active), except when they are specifically changed (second argument of the function)."
   ]
  },
  {
   "cell_type": "markdown",
   "metadata": {},
   "source": [
    "## Assertion 1\n",
    "\n",
    "* source: doi:10.1038/nature10868\n",
    "* assertion: BRAF inhibition causes a feedback activation of EGFR in colorectal cancer andnot in melanoma.\n"
   ]
  },
  {
   "cell_type": "code",
   "execution_count": 7,
   "metadata": {},
   "outputs": [
    {
     "name": "stdout",
     "output_type": "stream",
     "text": [
      "True!  \n",
      "The new probability of reaching the state is: 0.263566 \n",
      "The old one is: 0\n"
     ]
    }
   ],
   "source": [
    "test_BRAF_ON.assertStateProbabilityEvolution(BRAF_inhibition, IC_CRC, {'EGFR':1}, 'increase', digits=1)"
   ]
  },
  {
   "cell_type": "code",
   "execution_count": 10,
   "metadata": {},
   "outputs": [
    {
     "name": "stdout",
     "output_type": "stream",
     "text": [
      "True!  \n",
      "The new probability of reaching the state is: 0.07303 \n",
      "The old one is: 0\n"
     ]
    }
   ],
   "source": [
    "test_BRAF_ON.assertStateProbabilityEvolution(BRAF_inhibition, IC_Mela, {'EGFR':1}, 'stable', digits=1)"
   ]
  },
  {
   "cell_type": "markdown",
   "metadata": {},
   "source": [
    "The probability to have the riactivation of EGFR is higher in CRC than in melanoma."
   ]
  },
  {
   "cell_type": "markdown",
   "metadata": {},
   "source": [
    "## Assertion 2\n",
    "\n",
    "* source: doi: 10.1158/0008-5472.CAN-10-0902, doi 10.1007/s00018-016-2297-8\n",
    "* assertion: MEK inhibition stops ERK signal but activates the PI3K/Akt pathway and increases the activity of  ERBB3."
   ]
  },
  {
   "cell_type": "markdown",
   "metadata": {},
   "source": [
    "MEK inhibition stops ERK signal"
   ]
  },
  {
   "cell_type": "code",
   "execution_count": 24,
   "metadata": {},
   "outputs": [
    {
     "name": "stdout",
     "output_type": "stream",
     "text": [
      "Care, you did not changed any initial condition!\n",
      "True!  \n",
      "The new probability of reaching the state is: 0 \n",
      "The old one is: 1.0\n"
     ]
    }
   ],
   "source": [
    "test_BRAF_ON.assertStateProbabilityEvolution(MEK_inhibition, {}, {'ERK_b1':1}, 'decrease')"
   ]
  },
  {
   "cell_type": "code",
   "execution_count": 26,
   "metadata": {},
   "outputs": [
    {
     "name": "stdout",
     "output_type": "stream",
     "text": [
      "Care, you did not changed any initial condition!\n",
      "True!  \n",
      "The new probability of reaching the state is: 0 \n",
      "The old one is: 1.0\n"
     ]
    }
   ],
   "source": [
    "test_BRAF_ON.assertStateProbabilityEvolution(MEK_inhibition, {}, {'ERK_b2':1}, 'decrease')"
   ]
  },
  {
   "cell_type": "markdown",
   "metadata": {},
   "source": [
    "but activates the PI3K/Akt pathway"
   ]
  },
  {
   "cell_type": "code",
   "execution_count": 22,
   "metadata": {},
   "outputs": [
    {
     "name": "stdout",
     "output_type": "stream",
     "text": [
      "Care, you did not changed any initial condition!\n",
      "True!  \n",
      "The new probability of reaching the state is: 0.465 \n",
      "The old one is: 0.2464\n"
     ]
    }
   ],
   "source": [
    "test_BRAF_ON.assertStateProbabilityEvolution(MEK_inhibition, {}, {'PI3K':1,'AKT':1}, 'increase')"
   ]
  },
  {
   "cell_type": "markdown",
   "metadata": {},
   "source": [
    "and increases the activity of both EGFR and ERBB3."
   ]
  },
  {
   "cell_type": "code",
   "execution_count": 23,
   "metadata": {},
   "outputs": [
    {
     "name": "stdout",
     "output_type": "stream",
     "text": [
      "Care, you did not changed any initial condition!\n",
      "True!  \n",
      "The new probability of reaching the state is: 0.251 \n",
      "The old one is: 0\n"
     ]
    }
   ],
   "source": [
    "test_BRAF_ON.assertStateProbabilityEvolution(MEK_inhibition, {}, {'EGFR':1}, 'increase')"
   ]
  },
  {
   "cell_type": "markdown",
   "metadata": {},
   "source": [
    "## Assertion 3\n",
    "* source: doi:10.1038/nature11183.\n",
    "* assertion: HGF signal leads to the reactivation of the MAPK and PI3K/AKT pathways, and resistance to BRAF inhibition.\n"
   ]
  },
  {
   "cell_type": "code",
   "execution_count": 11,
   "metadata": {},
   "outputs": [
    {
     "name": "stdout",
     "output_type": "stream",
     "text": [
      "Care, you did not changed any initial condition!\n",
      "True!  \n",
      "The new probability of reaching the state is: 0.5024 \n",
      "The old one is: 0.338564\n"
     ]
    }
   ],
   "source": [
    "test_BRAF_OFF.assertStateProbabilityEvolution({'HGF':'ON'}, {}, {'PI3K':1,'AKT':1}, 'increase' )"
   ]
  },
  {
   "cell_type": "code",
   "execution_count": 12,
   "metadata": {},
   "outputs": [
    {
     "name": "stdout",
     "output_type": "stream",
     "text": [
      "Care, you did not changed any initial condition!\n",
      "True!  \n",
      "The new probability of reaching the state is: 0.465835 \n",
      "The old one is: 0.423269\n"
     ]
    }
   ],
   "source": [
    "test_BRAF_OFF.assertStateProbabilityEvolution({'HGF':'ON'}, {}, {'ERK_b1':1}, 'increase' )"
   ]
  },
  {
   "cell_type": "markdown",
   "metadata": {},
   "source": [
    "# Assertion 4\n",
    "\n",
    "* source: DOI: 10.1038/s41467-017-02354-x\n",
    "\n",
    "* assertion: BRAF inhibition in melanoma activates the SOX10/FOXD3/ERBB3 axis, which mediates resistance through the activation of the PI3K/AKT pathway."
   ]
  },
  {
   "cell_type": "code",
   "execution_count": 13,
   "metadata": {},
   "outputs": [],
   "source": [
    "axis = {'SOX10':1,'FOXD3': 1,'ERBB3':1}"
   ]
  },
  {
   "cell_type": "code",
   "execution_count": 14,
   "metadata": {},
   "outputs": [
    {
     "name": "stdout",
     "output_type": "stream",
     "text": [
      "True!  \n",
      "The new probability of reaching the state is: 0.470667 \n",
      "The old one is: 0\n"
     ]
    }
   ],
   "source": [
    "test_BRAF_ON.assertStateProbabilityEvolution(BRAF_inhibition, IC_Mela, axis, 'increase')"
   ]
  },
  {
   "cell_type": "code",
   "execution_count": 15,
   "metadata": {},
   "outputs": [
    {
     "name": "stdout",
     "output_type": "stream",
     "text": [
      "True!  \n",
      "The new probability of reaching the state is: 0.231462 \n",
      "The old one is: 0\n"
     ]
    }
   ],
   "source": [
    "test_BRAF_ON.assertStateProbabilityEvolution(BRAF_inhibition, IC_Mela, {'ERBB3':1,'PI3K':1,'AKT':1}, 'increase')"
   ]
  },
  {
   "cell_type": "markdown",
   "metadata": {},
   "source": [
    "* assertion: depletion of SOX10 would sensitize melanoma cells to the BRAF inhibitors."
   ]
  },
  {
   "cell_type": "code",
   "execution_count": 16,
   "metadata": {},
   "outputs": [
    {
     "name": "stdout",
     "output_type": "stream",
     "text": [
      "True!  \n",
      "The new probability of reaching the state is: 0.201131 \n",
      "The old one is: 0.2441\n"
     ]
    }
   ],
   "source": [
    "test_BRAF_OFF.assertStateProbabilityEvolution({'SOX10':'OFF'}, IC_Mela, {'Proliferation_b1':1}, 'decrease')"
   ]
  },
  {
   "cell_type": "code",
   "execution_count": 17,
   "metadata": {},
   "outputs": [
    {
     "name": "stdout",
     "output_type": "stream",
     "text": [
      "True!  \n",
      "The new probability of reaching the state is: 0.126645 \n",
      "The old one is: 0.152813\n"
     ]
    }
   ],
   "source": [
    "test_BRAF_OFF.assertStateProbabilityEvolution({'SOX10':'OFF'}, IC_Mela, {'Proliferation_b2':1}, 'decrease')"
   ]
  },
  {
   "cell_type": "markdown",
   "metadata": {},
   "source": [
    "# Assertion 5\n",
    "\n",
    "* source: doi: 10.21037/atm.2016.06.07\n",
    "* source: Overexpression/mutation of CRAF results in constitutive activation of ERK and MEK also in the presence of a BRAF inhibitor."
   ]
  },
  {
   "cell_type": "markdown",
   "metadata": {},
   "source": [
    "In order to thest this assertion we build a simulation with both BRAF and CRAF constitutively active:"
   ]
  },
  {
   "cell_type": "code",
   "execution_count": 18,
   "metadata": {},
   "outputs": [],
   "source": [
    "BRAFV600E.mutate('BRAF', 'ON')\n",
    "BRAFV600E.mutate('CRAF', 'ON')\n",
    "test_BRAF_CRAF_ON = maboss_test.MaBoSSTestCase(BRAFV600E)"
   ]
  },
  {
   "cell_type": "code",
   "execution_count": 20,
   "metadata": {},
   "outputs": [
    {
     "name": "stdout",
     "output_type": "stream",
     "text": [
      "Care, you did not changed any initial condition!\n",
      "True!  \n",
      "The new probability of reaching the state is: 1.0 \n",
      "The old one is: 1.0\n"
     ]
    }
   ],
   "source": [
    "test_BRAF_CRAF_ON.assertStateProbabilityEvolution(BRAF_inhibition, {}, {'MEK_b1':1,'ERK_b1':1}, 'stable')"
   ]
  },
  {
   "cell_type": "markdown",
   "metadata": {},
   "source": [
    "# Assertion 6\n",
    "\n",
    "* source: doi: 10.21037/atm.2016.06.07\n",
    "* assertion: Early resistance to BRAF inhibition may be observed in case of PTEN loss, or mutations in PI3K or AKT."
   ]
  },
  {
   "cell_type": "markdown",
   "metadata": {},
   "source": [
    "PTEN loss leads to an increase of proliferation in BRAF treated patients"
   ]
  },
  {
   "cell_type": "code",
   "execution_count": 21,
   "metadata": {},
   "outputs": [
    {
     "name": "stdout",
     "output_type": "stream",
     "text": [
      "Care, you did not changed any initial condition!\n",
      "True!  \n",
      "The new probability of reaching the state is: 0.441885 \n",
      "The old one is: 0.225481\n"
     ]
    }
   ],
   "source": [
    "test_BRAF_OFF.assertStateProbabilityEvolution({'PTEN':'OFF'}, {}, {'Proliferation_b1':1}, 'increase')"
   ]
  },
  {
   "cell_type": "code",
   "execution_count": 22,
   "metadata": {},
   "outputs": [
    {
     "name": "stdout",
     "output_type": "stream",
     "text": [
      "Care, you did not changed any initial condition!\n",
      "True!  \n",
      "The new probability of reaching the state is: 0.253203 \n",
      "The old one is: 0.138871\n"
     ]
    }
   ],
   "source": [
    "test_BRAF_OFF.assertStateProbabilityEvolution({'PTEN':'OFF'}, {}, {'Proliferation_b2':1}, 'increase')"
   ]
  },
  {
   "cell_type": "markdown",
   "metadata": {},
   "source": [
    "PI3K or AKT activation lead to an increase of proliferation in BRAF treated patients"
   ]
  },
  {
   "cell_type": "code",
   "execution_count": 23,
   "metadata": {},
   "outputs": [
    {
     "name": "stdout",
     "output_type": "stream",
     "text": [
      "Care, you did not changed any initial condition!\n",
      "True!  \n",
      "The new probability of reaching the state is: 0.495697 \n",
      "The old one is: 0.224744\n"
     ]
    }
   ],
   "source": [
    "test_BRAF_OFF.assertStateProbabilityEvolution({'PI3K':'ON'}, {}, {'Proliferation_b1':1}, 'increase')"
   ]
  },
  {
   "cell_type": "code",
   "execution_count": 24,
   "metadata": {},
   "outputs": [
    {
     "name": "stdout",
     "output_type": "stream",
     "text": [
      "Care, you did not changed any initial condition!\n",
      "True!  \n",
      "The new probability of reaching the state is: 0.362581 \n",
      "The old one is: 0.1359\n"
     ]
    }
   ],
   "source": [
    "test_BRAF_OFF.assertStateProbabilityEvolution({'PI3K':'ON'}, {}, {'Proliferation_b2':1}, 'increase')"
   ]
  },
  {
   "cell_type": "code",
   "execution_count": 25,
   "metadata": {},
   "outputs": [
    {
     "name": "stdout",
     "output_type": "stream",
     "text": [
      "Care, you did not changed any initial condition!\n",
      "True!  \n",
      "The new probability of reaching the state is: 0.458475 \n",
      "The old one is: 0.221405\n"
     ]
    }
   ],
   "source": [
    "test_BRAF_OFF.assertStateProbabilityEvolution({'AKT':'ON'}, {}, {'Proliferation_b1':1}, 'increase')"
   ]
  },
  {
   "cell_type": "code",
   "execution_count": 26,
   "metadata": {},
   "outputs": [
    {
     "name": "stdout",
     "output_type": "stream",
     "text": [
      "Care, you did not changed any initial condition!\n",
      "True!  \n",
      "The new probability of reaching the state is: 0.157379 \n",
      "The old one is: 0.128067\n"
     ]
    }
   ],
   "source": [
    "test_BRAF_OFF.assertStateProbabilityEvolution({'AKT':'ON'}, {}, {'Proliferation_b2':1}, 'increase')"
   ]
  },
  {
   "cell_type": "markdown",
   "metadata": {},
   "source": [
    "# Assertion 7\n",
    "\n",
    "* source: doi: 10.21037/atm.2016.06.07\n",
    "* Experiments in melanoma cell lines support combined treatment with BRAF/MEK + PI3K/AKT inhibitors to overcome resistance.\n",
    "\n",
    "\n"
   ]
  },
  {
   "cell_type": "code",
   "execution_count": 27,
   "metadata": {},
   "outputs": [
    {
     "name": "stdout",
     "output_type": "stream",
     "text": [
      "Care, you did not changed any initial condition!\n",
      "True!  \n",
      "The new probability of reaching the state is: 0 \n",
      "The old one is: 0.4996\n"
     ]
    }
   ],
   "source": [
    "test_BRAF_ON.assertStateProbabilityEvolution(BRAF_MEK_PI3K_inhibition, {}, {'Proliferation_b1':1}, 'decrease')"
   ]
  },
  {
   "cell_type": "code",
   "execution_count": 28,
   "metadata": {},
   "outputs": [
    {
     "name": "stdout",
     "output_type": "stream",
     "text": [
      "Care, you did not changed any initial condition!\n",
      "True!  \n",
      "The new probability of reaching the state is: 0 \n",
      "The old one is: 0.2464\n"
     ]
    }
   ],
   "source": [
    "test_BRAF_ON.assertStateProbabilityEvolution(BRAF_MEK_PI3K_inhibition, {}, {'Proliferation_b2':1}, 'decrease')"
   ]
  },
  {
   "cell_type": "markdown",
   "metadata": {},
   "source": [
    "# Assertion 8\n",
    "\n",
    "* source: doi:10.1158/2159-8290.CD-11-0341.\n",
    "* BRAF inhibition (Vemurafenib) also leads to induction of PI3K/AKT pathway and inhibition of EGFR did not block this induction.\n"
   ]
  },
  {
   "cell_type": "code",
   "execution_count": 29,
   "metadata": {},
   "outputs": [
    {
     "name": "stdout",
     "output_type": "stream",
     "text": [
      "Care, you did not changed any initial condition!\n",
      "True!  \n",
      "The new probability of reaching the state is: 0.338846 \n",
      "The old one is: 0.2554\n"
     ]
    }
   ],
   "source": [
    "test_BRAF_ON.assertStateProbabilityEvolution(BRAF_inhibition, {}, {'PI3K':1,'AKT':1}, 'increase')"
   ]
  },
  {
   "cell_type": "code",
   "execution_count": 30,
   "metadata": {},
   "outputs": [
    {
     "name": "stdout",
     "output_type": "stream",
     "text": [
      "Care, you did not changed any initial condition!\n",
      "True!  \n",
      "The new probability of reaching the state is: 0.333734 \n",
      "The old one is: 0.2572\n"
     ]
    }
   ],
   "source": [
    "test_BRAF_ON.assertStateProbabilityEvolution(BRAF_EGFR_inhibition, {}, {'PI3K':1,'AKT':1}, 'increase')"
   ]
  },
  {
   "cell_type": "markdown",
   "metadata": {},
   "source": [
    "''Despite the profound effect of this combination on cell viability'':\n",
    "the inhibition of both EGFR and BRAF when the EGF signal is strong is better than just BRAF inhibition"
   ]
  },
  {
   "cell_type": "code",
   "execution_count": 31,
   "metadata": {},
   "outputs": [
    {
     "name": "stdout",
     "output_type": "stream",
     "text": [
      "True!  \n",
      "The new probability of reaching the state is: 0.212745 \n",
      "The old one is: 0.5018\n"
     ]
    }
   ],
   "source": [
    "test_BRAF_ON.assertStateProbabilityEvolution(BRAF_EGFR_inhibition, {'EGF':[0,1]}, {'Proliferation_b1':1}, 'decrease')"
   ]
  },
  {
   "cell_type": "code",
   "execution_count": 32,
   "metadata": {},
   "outputs": [
    {
     "name": "stdout",
     "output_type": "stream",
     "text": [
      "True!  \n",
      "The new probability of reaching the state is: 0.247876 \n",
      "The old one is: 0.504\n"
     ]
    }
   ],
   "source": [
    "test_BRAF_ON.assertStateProbabilityEvolution(BRAF_inhibition, {'EGF':[0,1]}, {'Proliferation_b1':1}, 'decrease')"
   ]
  },
  {
   "cell_type": "markdown",
   "metadata": {},
   "source": [
    "# Assertion 9:\n",
    "\n",
    "* source: doi:10.1158/2159-8290.CD-11-0341\n",
    "* assertion: Induction of PI3K-AKT pathway signaling has been associated with decreased sensitivity to MAPK inhibition.\n"
   ]
  },
  {
   "cell_type": "code",
   "execution_count": 33,
   "metadata": {},
   "outputs": [
    {
     "name": "stdout",
     "output_type": "stream",
     "text": [
      "Care, you did not changed any initial condition!\n",
      "True!  \n",
      "The new probability of reaching the state is: 0.496043 \n",
      "The old one is: 0.230711\n"
     ]
    }
   ],
   "source": [
    "test_BRAF_OFF.assertStateProbabilityEvolution({'PI3K':'ON'}, {}, {'Proliferation_b1':1}, 'increase')"
   ]
  },
  {
   "cell_type": "code",
   "execution_count": 34,
   "metadata": {},
   "outputs": [
    {
     "name": "stdout",
     "output_type": "stream",
     "text": [
      "Care, you did not changed any initial condition!\n",
      "True!  \n",
      "The new probability of reaching the state is: 0.353279 \n",
      "The old one is: 0.131584\n"
     ]
    }
   ],
   "source": [
    "test_BRAF_OFF.assertStateProbabilityEvolution({'PI3K':'ON'}, {}, {'Proliferation_b2':1}, 'increase')"
   ]
  },
  {
   "cell_type": "code",
   "execution_count": null,
   "metadata": {},
   "outputs": [],
   "source": []
  }
 ],
 "metadata": {
  "kernelspec": {
   "display_name": "Python 3",
   "language": "python",
   "name": "python3"
  },
  "language_info": {
   "codemirror_mode": {
    "name": "ipython",
    "version": 3
   },
   "file_extension": ".py",
   "mimetype": "text/x-python",
   "name": "python",
   "nbconvert_exporter": "python",
   "pygments_lexer": "ipython3",
   "version": "3.7.3"
  }
 },
 "nbformat": 4,
 "nbformat_minor": 2
}
